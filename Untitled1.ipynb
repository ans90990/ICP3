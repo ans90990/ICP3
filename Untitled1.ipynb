{
  "nbformat": 4,
  "nbformat_minor": 0,
  "metadata": {
    "colab": {
      "provenance": [],
      "authorship_tag": "ABX9TyMEebIwkQcg2h2iaigA8l8V",
      "include_colab_link": true
    },
    "kernelspec": {
      "name": "python3",
      "display_name": "Python 3"
    },
    "language_info": {
      "name": "python"
    }
  },
  "cells": [
    {
      "cell_type": "markdown",
      "metadata": {
        "id": "view-in-github",
        "colab_type": "text"
      },
      "source": [
        "<a href=\"https://colab.research.google.com/github/ans90990/ICP3/blob/main/Untitled1.ipynb\" target=\"_parent\"><img src=\"https://colab.research.google.com/assets/colab-badge.svg\" alt=\"Open In Colab\"/></a>"
      ]
    },
    {
      "cell_type": "code",
      "execution_count": null,
      "metadata": {
        "id": "fFag70-bzESK"
      },
      "outputs": [],
      "source": [
        "import numpy as np\n",
        "table = np.random.random(15)\n",
        "shapedTable = table.reshape(3, 5)\n",
        "print(shapedTable)\n",
        "#replace each max value in each row with 0\n",
        "shapedTable[np.arange(len(shapedTable)), shapedTable.argmax(1)] = 0\n",
        "print(shapedTable)\n",
        "\n",
        "#Q2\n",
        "\n",
        "array = np.array([[1, 2, 3], [4, 5, 6]], np.int32)\n",
        "print(array.shape)\n",
        "print(array.dtype)\n",
        "print(type(array))\n",
        "\n",
        "#Q3\n",
        "#compute the sum of the diagonal element of a given array\n",
        "q3Array = np.array([[0, 1, 2], [3, 4, 5]])\n",
        "print(q3Array)\n",
        "trace = np.trace(q3Array)\n",
        "print(trace)\n",
        "\n",
        "#Q4\n",
        "evenArray = np.arange(10,70, 2)\n",
        "oddArray = np.arange(11, 70, 2)\n",
        "print(evenArray)\n",
        "print(oddArray)\n",
        "addedArray = evenArray + oddArray\n",
        "print(addedArray)\n",
        "mArray = evenArray * oddArray\n",
        "print(mArray)\n",
        "minArray = evenArray - oddArray\n",
        "print(minArray)\n",
        "\n",
        "sortArray = np.array([5.54, 3.38, 7.99, 3.54, 4.38, 6.99, 1.54, 2.39, 9.29])\n",
        "sortArray = sortArray.reshape(3,3)\n",
        "print(np.sort(sortArray))  #sorted by row\n",
        "print(np.sort(sortArray, axis = 0))  #sort by column\n",
        "\n",
        "#Q5\n",
        "q5Array = np.array([[3, 2, np.nan, 1],\n",
        "                    [10, 12, 10, 9],\n",
        "                    [5, np.nan, 1, np.nan]])\n",
        "\n",
        "print(np.isnan(q5Array))"
      ]
    }
  ]
}